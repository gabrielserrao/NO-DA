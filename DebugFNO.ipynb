{
 "cells": [
  {
   "cell_type": "code",
   "execution_count": 1,
   "metadata": {},
   "outputs": [
    {
     "name": "stderr",
     "output_type": "stream",
     "text": [
      "/home/smrserraoseabr/.local/lib/python3.8/site-packages/tqdm/auto.py:22: TqdmWarning: IProgress not found. Please update jupyter and ipywidgets. See https://ipywidgets.readthedocs.io/en/stable/user_install.html\n",
      "  from .autonotebook import tqdm as notebook_tqdm\n"
     ]
    }
   ],
   "source": [
    "#%%\n",
    "\"\"\"\n",
    "Adapted from Zongyi Li TODO: include referene in the README\n",
    "This file is the Fourier Neural Operator for 3D problem takes the 2D spatial + 1D temporal equation directly as a 3D problem\n",
    "\"\"\"\n",
    "\n",
    "import torch.nn.functional as F\n",
    "from utilities import *\n",
    "from timeit import default_timer\n",
    "import matplotlib.pyplot as plt\n",
    "import numpy as np\n",
    "\n",
    "torch.manual_seed(0)\n",
    "np.random.seed(0)"
   ]
  },
  {
   "cell_type": "code",
   "execution_count": 2,
   "metadata": {},
   "outputs": [],
   "source": [
    "################################################################\n",
    "# 3d fourier layers\n",
    "################################################################\n",
    "\n",
    "class SpectralConv3d(nn.Module):\n",
    "    def __init__(self, in_channels, out_channels, modes1, modes2, modes3):\n",
    "        super(SpectralConv3d, self).__init__()\n",
    "\n",
    "        \"\"\"\n",
    "        3D Fourier layer. It does FFT, linear transform, and Inverse FFT.    \n",
    "        \"\"\"\n",
    "\n",
    "        self.in_channels = in_channels\n",
    "        self.out_channels = out_channels\n",
    "        self.modes1 = modes1 #Number of Fourier modes to multiply, at most floor(N/2) + 1\n",
    "        self.modes2 = modes2\n",
    "        self.modes3 = modes3\n",
    "\n",
    "        self.scale = (1 / (in_channels * out_channels))\n",
    "        self.weights1 = nn.Parameter(self.scale * torch.rand(in_channels, out_channels, self.modes1, self.modes2, self.modes3, dtype=torch.cfloat))\n",
    "        self.weights2 = nn.Parameter(self.scale * torch.rand(in_channels, out_channels, self.modes1, self.modes2, self.modes3, dtype=torch.cfloat))\n",
    "        self.weights3 = nn.Parameter(self.scale * torch.rand(in_channels, out_channels, self.modes1, self.modes2, self.modes3, dtype=torch.cfloat))\n",
    "        self.weights4 = nn.Parameter(self.scale * torch.rand(in_channels, out_channels, self.modes1, self.modes2, self.modes3, dtype=torch.cfloat))\n",
    "\n",
    "    # Complex multiplication\n",
    "    def compl_mul3d(self, input, weights):\n",
    "        # (batch, in_channel, x,y,t ), (in_channel, out_channel, x,y,t) -> (batch, out_channel, x,y,t)\n",
    "        return torch.einsum(\"bixyz,ioxyz->boxyz\", input, weights)\n",
    "\n",
    "    def forward(self, x):\n",
    "        batchsize = x.shape[0]\n",
    "        #Compute Fourier coeffcients up to factor of e^(- something constant)\n",
    "        x_ft = torch.fft.rfftn(x, dim=[-3,-2,-1])\n",
    "\n",
    "        # Multiply relevant Fourier modes\n",
    "        out_ft = torch.zeros(batchsize, self.out_channels, x.size(-3), x.size(-2), x.size(-1)//2 + 1, dtype=torch.cfloat, device=x.device)\n",
    "        out_ft[:, :, :self.modes1, :self.modes2, :self.modes3] = \\\n",
    "            self.compl_mul3d(x_ft[:, :, :self.modes1, :self.modes2, :self.modes3], self.weights1)\n",
    "        out_ft[:, :, -self.modes1:, :self.modes2, :self.modes3] = \\\n",
    "            self.compl_mul3d(x_ft[:, :, -self.modes1:, :self.modes2, :self.modes3], self.weights2)\n",
    "        out_ft[:, :, :self.modes1, -self.modes2:, :self.modes3] = \\\n",
    "            self.compl_mul3d(x_ft[:, :, :self.modes1, -self.modes2:, :self.modes3], self.weights3)\n",
    "        out_ft[:, :, -self.modes1:, -self.modes2:, :self.modes3] = \\\n",
    "            self.compl_mul3d(x_ft[:, :, -self.modes1:, -self.modes2:, :self.modes3], self.weights4)\n",
    "\n",
    "        #Return to physical space\n",
    "        x = torch.fft.irfftn(out_ft, s=(x.size(-3), x.size(-2), x.size(-1)))\n",
    "        return x\n",
    "\n",
    "class MLP(nn.Module):\n",
    "    def __init__(self, in_channels, out_channels, mid_channels):\n",
    "        super(MLP, self).__init__()\n",
    "        self.mlp1 = nn.Conv3d(in_channels, mid_channels, 1)\n",
    "        self.mlp2 = nn.Conv3d(mid_channels, out_channels, 1)\n",
    "\n",
    "    def forward(self, x):\n",
    "        x = self.mlp1(x)\n",
    "        x = F.gelu(x)\n",
    "        x = self.mlp2(x)\n",
    "        return x\n",
    "\n",
    "class FNO3d(nn.Module):\n",
    "    def __init__(self, modes1, modes2, modes3, width):\n",
    "        super(FNO3d, self).__init__()\n",
    "\n",
    "        \"\"\"\n",
    "        The overall network. It contains 4 layers of the Fourier layer.\n",
    "        1. Lift the input to the desire channel dimension by self.fc0 .\n",
    "        2. 4 layers of the integral operators u' = (W + K)(u).\n",
    "            W defined by self.w; K defined by self.conv .\n",
    "        3. Project from the channel space to the output space by self.fc1 and self.fc2 .\n",
    "        \n",
    "        input: all parameters  + encoded spatial-temporal locations (x, y, t)\n",
    "        input shape: (batchsize, x=32, y=32, t=61, c=6)\n",
    "        output: the solution of the 61 timesteps\n",
    "        output shape: (batchsize, x=32, y=32, t=61, c=1)\n",
    "        \"\"\"\n",
    "\n",
    "        self.modes1 = modes1\n",
    "        self.modes2 = modes2\n",
    "        self.modes3 = modes3\n",
    "        self.width = width\n",
    "        self.padding = 4 # pad the domain if input is non-periodic -. defautl 4 \n",
    "        #TODO: padding = 4 \n",
    "\n",
    "        self.p = nn.Linear(6, self.width)# input channel is 7: Por, Perm, gas_rate, Pressure + x, y, time encodings\n",
    "        self.conv0 = SpectralConv3d(self.width, self.width, self.modes1, self.modes2, self.modes3)\n",
    "        self.conv1 = SpectralConv3d(self.width, self.width, self.modes1, self.modes2, self.modes3)\n",
    "        self.conv2 = SpectralConv3d(self.width, self.width, self.modes1, self.modes2, self.modes3)\n",
    "        self.conv3 = SpectralConv3d(self.width, self.width, self.modes1, self.modes2, self.modes3)\n",
    "        self.mlp0 = MLP(self.width, self.width, self.width)\n",
    "        self.mlp1 = MLP(self.width, self.width, self.width)\n",
    "        self.mlp2 = MLP(self.width, self.width, self.width)\n",
    "        self.mlp3 = MLP(self.width, self.width, self.width)\n",
    "        self.w0 = nn.Conv3d(self.width, self.width, 1)\n",
    "        self.w1 = nn.Conv3d(self.width, self.width, 1)\n",
    "        self.w2 = nn.Conv3d(self.width, self.width, 1)\n",
    "        self.w3 = nn.Conv3d(self.width, self.width, 1)\n",
    "        self.q = MLP(self.width, 1, self.width * 4) # output channel is 1: u(x, y)\n",
    "\n",
    "    def forward(self, x): # (batchsize, x=32, y=32, t=61, c=6)\n",
    "        grid = self.get_grid(x.shape, x.device)\n",
    "        #print(f'grid shape: {grid.shape}')\n",
    "        #print(f'x shape: {x.shape}')\n",
    "        #x = torch.cat((x, grid), dim=-1)\n",
    "        #print(f'x shape after cat: {x.shape}')\n",
    "        x = self.p(x) # output size: batchsize, channel , width\n",
    "        x = x.permute(0, 4, 1, 2, 3)\n",
    "\n",
    "        # TODO: modificar o padding para que ajustar x, y e t  \n",
    "        #p3d -> x, y, t\n",
    "        p3d = (self.padding, self.padding, self.padding, self.padding, self.padding, self.padding)\n",
    "        x = F.pad(x, p3d) # pad the domain if input is non-periodic\n",
    "        #x = F.pad(x, [0,self.padding]) # ORIGINAL\n",
    "        x1 = self.conv0(x) #Fourier layer\n",
    "        x1 = self.mlp0(x1) #Conv layer (input fourier layer output)\n",
    "        x2 = self.w0(x) #Conv layer (input x)\n",
    "        x = x1 + x2\n",
    "        x = F.gelu(x)\n",
    "\n",
    "        x1 = self.conv1(x)\n",
    "        x1 = self.mlp1(x1)\n",
    "        x2 = self.w1(x)\n",
    "        x = x1 + x2\n",
    "        x = F.gelu(x)\n",
    "\n",
    "        x1 = self.conv2(x)\n",
    "        x1 = self.mlp2(x1)\n",
    "        x2 = self.w2(x)\n",
    "        x = x1 + x2\n",
    "        x = F.gelu(x)\n",
    "\n",
    "        x1 = self.conv3(x)\n",
    "        x1 = self.mlp3(x1)\n",
    "        x2 = self.w3(x)\n",
    "        x = x1 + x2\n",
    "\n",
    "        #x = x[..., :-self.padding] ORIGINAL\n",
    "        #retirar o p3d referente aos ultimos 3 indices\n",
    "        x = x[..., -self.padding:-self.padding, -self.padding:-self.padding, -self.padding:-self.padding] \n",
    "        \n",
    "        x = self.q(x)\n",
    "        x = x.permute(0, 2, 3, 4, 1) # pad the domain if input is non-periodic\n",
    "        return x\n",
    "\n",
    "\n",
    "    def get_grid(self, shape, device):\n",
    "        batchsize, size_x, size_y, size_z = shape[0], shape[1], shape[2], shape[3]\n",
    "        gridx = torch.tensor(np.linspace(0, 1, size_x), dtype=torch.float)\n",
    "        gridx = gridx.reshape(1, size_x, 1, 1, 1).repeat([batchsize, 1, size_y, size_z, 1])\n",
    "        gridy = torch.tensor(np.linspace(0, 1, size_y), dtype=torch.float)\n",
    "        gridy = gridy.reshape(1, 1, size_y, 1, 1).repeat([batchsize, size_x, 1, size_z, 1])\n",
    "        gridz = torch.tensor(np.linspace(0, 1, size_z), dtype=torch.float)\n",
    "        gridz = gridz.reshape(1, 1, 1, size_z, 1).repeat([batchsize, size_x, size_y, 1, 1])\n",
    "        return torch.cat((gridx, gridy, gridz), dim=-1).to(device)"
   ]
  },
  {
   "cell_type": "code",
   "execution_count": 3,
   "metadata": {},
   "outputs": [
    {
     "name": "stdout",
     "output_type": "stream",
     "text": [
      "preprocessing finished, time used: 0.008158141281455755\n"
     ]
    }
   ],
   "source": [
    "################################################################\n",
    "# configs-1\n",
    "################################################################\n",
    "resolution = 32\n",
    "folder = \"/scratch/smrserraoseabr/Projects/FluvialCO2/results\" + str(resolution) + \"/\"\n",
    "input_vars = ['Por', 'Perm', 'gas_rate', 'Pressure'] # Porosity, Permeability, ,  Well 'gas_rate', Pressure + x, y, time encodings \n",
    "output_vars = ['CO_2'] \n",
    "\n",
    "\n",
    "\n",
    "num_files= 100\n",
    "traintest_split = 0.8\n",
    "\n",
    "batch_size = 2\n",
    "\n",
    "ntrain = num_files*traintest_split\n",
    "ntest = num_files - ntrain\n",
    "\n",
    "learning_rate = 0.001\n",
    "epochs = 3\n",
    "\n",
    "\n",
    "iterations = epochs*(ntrain//batch_size)\n",
    "modes = 12\n",
    "width = 128 \n",
    "\n",
    "# Prepare the path\n",
    "path = 'ns_fourier_3d_N{}_ep{}_m{}_w{}'.format(ntrain, epochs, modes, width)\n",
    "\n",
    "# Include in the path the input and output variables\n",
    "path += '_INPUT_' + '_'.join(input_vars) + '_OUTPUT_' + '_'.join(output_vars)\n",
    "\n",
    "# Create paths for log, model, and images\n",
    "path_log = os.path.join('runs', path, 'log')\n",
    "path_model = os.path.join('runs', path, 'model')\n",
    "path_image = os.path.join('runs', path, 'images')\n",
    "\n",
    "# Create directories\n",
    "os.makedirs(path_log, exist_ok=True)\n",
    "os.makedirs(path_model, exist_ok=True)\n",
    "os.makedirs(path_image, exist_ok=True)\n",
    "\n",
    "# Create paths for train error and test error files\n",
    "path_train_err = os.path.join(path_log, 'train.txt')\n",
    "path_test_err = os.path.join(path_log, 'test.txt')\n",
    "\n",
    "\n",
    "\n",
    "S = 32\n",
    "#T_in = 61\n",
    "T = 61\n",
    "\n",
    "#device = 'cuda' if torch.cuda.is_available() else 'cpu'\n",
    "device = 'cpu'\n",
    "\n",
    "################################################################\n",
    "# load data\n",
    "################################################################\n",
    "runtime = np.zeros(2, )\n",
    "t1 = default_timer()\n",
    "\n",
    "# Create instance of ReadXarrayDatasetNorm class for training data\n",
    "dataset = ReadXarrayDataset(folder=folder, input_vars=input_vars, output_vars=output_vars, num_files = num_files)\n",
    "\n",
    "train_size = int(traintest_split * len(dataset))\n",
    "test_size = len(dataset) - train_size\n",
    "\n",
    "train_dataset = torch.utils.data.Subset(dataset, range(0, train_size))\n",
    "test_dataset = torch.utils.data.Subset(dataset, range(train_size, train_size + test_size))\n",
    "\n",
    "\n",
    "train_loader = DataLoader(train_dataset, batch_size=batch_size, shuffle=False)\n",
    "test_loader = DataLoader(test_dataset, batch_size=batch_size, shuffle=False)\n",
    "t2 = default_timer()\n",
    "\n",
    "# We no longer have the entire dataset loaded into memory. The normalization is handled by the Dataset class.\n",
    "# We also can't directly print the shape of the data because it's not all loaded into memory.\n",
    "\n",
    "print('preprocessing finished, time used:', t2-t1)\n",
    "\n"
   ]
  },
  {
   "cell_type": "code",
   "execution_count": null,
   "metadata": {},
   "outputs": [
    {
     "ename": "",
     "evalue": "",
     "output_type": "error",
     "traceback": [
      "\u001b[1;31mFailed to start the Kernel. \n",
      "\u001b[1;31mUnable to start Kernel 'Python 3.8.12' due to connection timeout. \n",
      "\u001b[1;31mView Jupyter <a href='command:jupyter.viewOutput'>log</a> for further details."
     ]
    }
   ],
   "source": [
    "# Normalize input_data and output_data\n",
    "# Create normalizers for training data\n",
    "train_input_normalizer = PointGaussianNormalizer(train_loader, is_label=False)\n",
    "train_output_normalizer = PointGaussianNormalizer(train_loader, is_label=True)\n",
    "\n",
    "# Create normalizers for test data\n",
    "test_input_normalizer = PointGaussianNormalizer(test_loader, is_label=False)\n",
    "test_output_normalizer = PointGaussianNormalizer(test_loader, is_label=True)"
   ]
  },
  {
   "cell_type": "code",
   "execution_count": null,
   "metadata": {},
   "outputs": [
    {
     "ename": "",
     "evalue": "",
     "output_type": "error",
     "traceback": [
      "\u001b[1;31mFailed to start the Kernel. \n",
      "\u001b[1;31mUnable to start Kernel 'Python 3.8.12' due to connection timeout. \n",
      "\u001b[1;31mView Jupyter <a href='command:jupyter.viewOutput'>log</a> for further details."
     ]
    }
   ],
   "source": [
    "#CHECK NORMALIZATION\n",
    "for data, labels in train_loader:\n",
    "    encoded_data = train_input_normalizer.encode(data)\n",
    "    encoded_labels = train_output_normalizer.encode(labels)\n",
    "    break\n",
    "\n",
    "decoded_data = train_input_normalizer.decode(encoded_data)\n",
    "decoded_labels = train_output_normalizer.decode(encoded_labels)\n",
    "\n",
    "# Check consistency with original data\n",
    "data_diff = torch.abs(data - decoded_data)\n",
    "labels_diff = torch.abs(labels - decoded_labels)\n",
    "\n",
    "# Compute maximum differences\n",
    "max_data_diff = torch.max(data_diff)\n",
    "max_labels_diff = torch.max(labels_diff)\n",
    "print(\"Maximum difference in data: \", max_data_diff)\n",
    "print(\"Maximum difference in labels: \", max_labels_diff)"
   ]
  },
  {
   "cell_type": "code",
   "execution_count": null,
   "metadata": {},
   "outputs": [
    {
     "ename": "",
     "evalue": "",
     "output_type": "error",
     "traceback": [
      "\u001b[1;31mFailed to start the Kernel. \n",
      "\u001b[1;31mUnable to start Kernel 'Python 3.8.12' due to connection timeout. \n",
      "\u001b[1;31mView Jupyter <a href='command:jupyter.viewOutput'>log</a> for further details."
     ]
    }
   ],
   "source": [
    "#%%\n",
    "################################################################\n",
    "# training and evaluation\n",
    "################################################################\n",
    "model = FNO3d(modes, modes, modes, width).to(device) #TODO include .cuda()\n",
    "print(count_params(model))\n",
    "optimizer = torch.optim.Adam(model.parameters(), lr=learning_rate, weight_decay=1e-4)\n",
    "scheduler = torch.optim.lr_scheduler.CosineAnnealingLR(optimizer, T_max=iterations)\n"
   ]
  },
  {
   "cell_type": "code",
   "execution_count": null,
   "metadata": {},
   "outputs": [
    {
     "ename": "",
     "evalue": "",
     "output_type": "error",
     "traceback": [
      "\u001b[1;31mFailed to start the Kernel. \n",
      "\u001b[1;31mUnable to start Kernel 'Python 3.8.12' due to connection timeout. \n",
      "\u001b[1;31mView Jupyter <a href='command:jupyter.viewOutput'>log</a> for further details."
     ]
    }
   ],
   "source": [
    "import tracemalloc\n",
    "\n",
    "tracemalloc.start()\n",
    "\n",
    "# Your code here\n",
    "\n",
    "current, peak = tracemalloc.get_traced_memory()\n",
    "print(f\"Current memory usage is {current / 10**6}MB; Peak was {peak / 10**6}MB\")\n",
    "tracemalloc.stop()"
   ]
  },
  {
   "cell_type": "code",
   "execution_count": null,
   "metadata": {},
   "outputs": [
    {
     "ename": "",
     "evalue": "",
     "output_type": "error",
     "traceback": [
      "\u001b[1;31mFailed to start the Kernel. \n",
      "\u001b[1;31mUnable to start Kernel 'Python 3.8.12' due to connection timeout. \n",
      "\u001b[1;31mView Jupyter <a href='command:jupyter.viewOutput'>log</a> for further details."
     ]
    }
   ],
   "source": [
    "#%%\n",
    "################################################################\n",
    "# training and evaluation\n",
    "################################################################\n",
    "model = FNO3d(modes, modes, modes, width).to(device) \n",
    "print(count_params(model))\n",
    "optimizer = torch.optim.Adam(model.parameters(), lr=learning_rate, weight_decay=1e-4)\n",
    "scheduler = torch.optim.lr_scheduler.CosineAnnealingLR(optimizer, T_max=iterations)"
   ]
  },
  {
   "cell_type": "code",
   "execution_count": 56,
   "metadata": {},
   "outputs": [
    {
     "name": "stdout",
     "output_type": "stream",
     "text": [
      "epoch 0 of 3\n"
     ]
    },
    {
     "ename": "RuntimeError",
     "evalue": "[enforce fail at alloc_cpu.cpp:73] . DefaultCPUAllocator: can't allocate memory: you tried to allocate 49244405760 bytes. Error code 12 (Cannot allocate memory)",
     "output_type": "error",
     "traceback": [
      "\u001b[0;31m---------------------------------------------------------------------------\u001b[0m",
      "\u001b[0;31mRuntimeError\u001b[0m                              Traceback (most recent call last)",
      "\u001b[1;32m/scratch/smrserraoseabr/Projects/NO-DA/DebugFNO.ipynb Cell 13\u001b[0m in \u001b[0;36m1\n\u001b[1;32m     <a href='vscode-notebook-cell://ssh-remote%2Blogin.delftblue.tudelft.nl/scratch/smrserraoseabr/Projects/NO-DA/DebugFNO.ipynb#X11sdnNjb2RlLXJlbW90ZQ%3D%3D?line=13'>14</a>\u001b[0m y\u001b[39m.\u001b[39mto(device) \n\u001b[1;32m     <a href='vscode-notebook-cell://ssh-remote%2Blogin.delftblue.tudelft.nl/scratch/smrserraoseabr/Projects/NO-DA/DebugFNO.ipynb#X11sdnNjb2RlLXJlbW90ZQ%3D%3D?line=15'>16</a>\u001b[0m optimizer\u001b[39m.\u001b[39mzero_grad()\n\u001b[0;32m---> <a href='vscode-notebook-cell://ssh-remote%2Blogin.delftblue.tudelft.nl/scratch/smrserraoseabr/Projects/NO-DA/DebugFNO.ipynb#X11sdnNjb2RlLXJlbW90ZQ%3D%3D?line=16'>17</a>\u001b[0m out \u001b[39m=\u001b[39m model(x) \u001b[39m#.view(batch_size, S, S, T)\u001b[39;00m\n\u001b[1;32m     <a href='vscode-notebook-cell://ssh-remote%2Blogin.delftblue.tudelft.nl/scratch/smrserraoseabr/Projects/NO-DA/DebugFNO.ipynb#X11sdnNjb2RlLXJlbW90ZQ%3D%3D?line=18'>19</a>\u001b[0m mse \u001b[39m=\u001b[39m F\u001b[39m.\u001b[39mmse_loss(out, y, reduction\u001b[39m=\u001b[39m\u001b[39m'\u001b[39m\u001b[39mmean\u001b[39m\u001b[39m'\u001b[39m)\n\u001b[1;32m     <a href='vscode-notebook-cell://ssh-remote%2Blogin.delftblue.tudelft.nl/scratch/smrserraoseabr/Projects/NO-DA/DebugFNO.ipynb#X11sdnNjb2RlLXJlbW90ZQ%3D%3D?line=19'>20</a>\u001b[0m \u001b[39m# mse.backward()\u001b[39;00m\n",
      "File \u001b[0;32m~/.local/lib/python3.8/site-packages/torch/nn/modules/module.py:1130\u001b[0m, in \u001b[0;36mModule._call_impl\u001b[0;34m(self, *input, **kwargs)\u001b[0m\n\u001b[1;32m   1126\u001b[0m \u001b[39m# If we don't have any hooks, we want to skip the rest of the logic in\u001b[39;00m\n\u001b[1;32m   1127\u001b[0m \u001b[39m# this function, and just call forward.\u001b[39;00m\n\u001b[1;32m   1128\u001b[0m \u001b[39mif\u001b[39;00m \u001b[39mnot\u001b[39;00m (\u001b[39mself\u001b[39m\u001b[39m.\u001b[39m_backward_hooks \u001b[39mor\u001b[39;00m \u001b[39mself\u001b[39m\u001b[39m.\u001b[39m_forward_hooks \u001b[39mor\u001b[39;00m \u001b[39mself\u001b[39m\u001b[39m.\u001b[39m_forward_pre_hooks \u001b[39mor\u001b[39;00m _global_backward_hooks\n\u001b[1;32m   1129\u001b[0m         \u001b[39mor\u001b[39;00m _global_forward_hooks \u001b[39mor\u001b[39;00m _global_forward_pre_hooks):\n\u001b[0;32m-> 1130\u001b[0m     \u001b[39mreturn\u001b[39;00m forward_call(\u001b[39m*\u001b[39;49m\u001b[39minput\u001b[39;49m, \u001b[39m*\u001b[39;49m\u001b[39m*\u001b[39;49mkwargs)\n\u001b[1;32m   1131\u001b[0m \u001b[39m# Do not call functions when jit is used\u001b[39;00m\n\u001b[1;32m   1132\u001b[0m full_backward_hooks, non_full_backward_hooks \u001b[39m=\u001b[39m [], []\n",
      "\u001b[1;32m/scratch/smrserraoseabr/Projects/NO-DA/DebugFNO.ipynb Cell 13\u001b[0m in \u001b[0;36m1\n\u001b[1;32m    <a href='vscode-notebook-cell://ssh-remote%2Blogin.delftblue.tudelft.nl/scratch/smrserraoseabr/Projects/NO-DA/DebugFNO.ipynb#X11sdnNjb2RlLXJlbW90ZQ%3D%3D?line=114'>115</a>\u001b[0m x1 \u001b[39m=\u001b[39m \u001b[39mself\u001b[39m\u001b[39m.\u001b[39mconv0(x) \u001b[39m#Fourier layer\u001b[39;00m\n\u001b[1;32m    <a href='vscode-notebook-cell://ssh-remote%2Blogin.delftblue.tudelft.nl/scratch/smrserraoseabr/Projects/NO-DA/DebugFNO.ipynb#X11sdnNjb2RlLXJlbW90ZQ%3D%3D?line=115'>116</a>\u001b[0m x1 \u001b[39m=\u001b[39m \u001b[39mself\u001b[39m\u001b[39m.\u001b[39mmlp0(x1) \u001b[39m#Conv layer (input fourier layer output)\u001b[39;00m\n\u001b[0;32m--> <a href='vscode-notebook-cell://ssh-remote%2Blogin.delftblue.tudelft.nl/scratch/smrserraoseabr/Projects/NO-DA/DebugFNO.ipynb#X11sdnNjb2RlLXJlbW90ZQ%3D%3D?line=116'>117</a>\u001b[0m x2 \u001b[39m=\u001b[39m \u001b[39mself\u001b[39;49m\u001b[39m.\u001b[39;49mw0(x) \u001b[39m#Conv layer (input x)\u001b[39;00m\n\u001b[1;32m    <a href='vscode-notebook-cell://ssh-remote%2Blogin.delftblue.tudelft.nl/scratch/smrserraoseabr/Projects/NO-DA/DebugFNO.ipynb#X11sdnNjb2RlLXJlbW90ZQ%3D%3D?line=117'>118</a>\u001b[0m x \u001b[39m=\u001b[39m x1 \u001b[39m+\u001b[39m x2\n\u001b[1;32m    <a href='vscode-notebook-cell://ssh-remote%2Blogin.delftblue.tudelft.nl/scratch/smrserraoseabr/Projects/NO-DA/DebugFNO.ipynb#X11sdnNjb2RlLXJlbW90ZQ%3D%3D?line=118'>119</a>\u001b[0m x \u001b[39m=\u001b[39m F\u001b[39m.\u001b[39mgelu(x)\n",
      "File \u001b[0;32m~/.local/lib/python3.8/site-packages/torch/nn/modules/module.py:1130\u001b[0m, in \u001b[0;36mModule._call_impl\u001b[0;34m(self, *input, **kwargs)\u001b[0m\n\u001b[1;32m   1126\u001b[0m \u001b[39m# If we don't have any hooks, we want to skip the rest of the logic in\u001b[39;00m\n\u001b[1;32m   1127\u001b[0m \u001b[39m# this function, and just call forward.\u001b[39;00m\n\u001b[1;32m   1128\u001b[0m \u001b[39mif\u001b[39;00m \u001b[39mnot\u001b[39;00m (\u001b[39mself\u001b[39m\u001b[39m.\u001b[39m_backward_hooks \u001b[39mor\u001b[39;00m \u001b[39mself\u001b[39m\u001b[39m.\u001b[39m_forward_hooks \u001b[39mor\u001b[39;00m \u001b[39mself\u001b[39m\u001b[39m.\u001b[39m_forward_pre_hooks \u001b[39mor\u001b[39;00m _global_backward_hooks\n\u001b[1;32m   1129\u001b[0m         \u001b[39mor\u001b[39;00m _global_forward_hooks \u001b[39mor\u001b[39;00m _global_forward_pre_hooks):\n\u001b[0;32m-> 1130\u001b[0m     \u001b[39mreturn\u001b[39;00m forward_call(\u001b[39m*\u001b[39;49m\u001b[39minput\u001b[39;49m, \u001b[39m*\u001b[39;49m\u001b[39m*\u001b[39;49mkwargs)\n\u001b[1;32m   1131\u001b[0m \u001b[39m# Do not call functions when jit is used\u001b[39;00m\n\u001b[1;32m   1132\u001b[0m full_backward_hooks, non_full_backward_hooks \u001b[39m=\u001b[39m [], []\n",
      "File \u001b[0;32m~/.local/lib/python3.8/site-packages/torch/nn/modules/conv.py:607\u001b[0m, in \u001b[0;36mConv3d.forward\u001b[0;34m(self, input)\u001b[0m\n\u001b[1;32m    606\u001b[0m \u001b[39mdef\u001b[39;00m \u001b[39mforward\u001b[39m(\u001b[39mself\u001b[39m, \u001b[39minput\u001b[39m: Tensor) \u001b[39m-\u001b[39m\u001b[39m>\u001b[39m Tensor:\n\u001b[0;32m--> 607\u001b[0m     \u001b[39mreturn\u001b[39;00m \u001b[39mself\u001b[39;49m\u001b[39m.\u001b[39;49m_conv_forward(\u001b[39minput\u001b[39;49m, \u001b[39mself\u001b[39;49m\u001b[39m.\u001b[39;49mweight, \u001b[39mself\u001b[39;49m\u001b[39m.\u001b[39;49mbias)\n",
      "File \u001b[0;32m~/.local/lib/python3.8/site-packages/torch/nn/modules/conv.py:602\u001b[0m, in \u001b[0;36mConv3d._conv_forward\u001b[0;34m(self, input, weight, bias)\u001b[0m\n\u001b[1;32m    590\u001b[0m \u001b[39mif\u001b[39;00m \u001b[39mself\u001b[39m\u001b[39m.\u001b[39mpadding_mode \u001b[39m!=\u001b[39m \u001b[39m\"\u001b[39m\u001b[39mzeros\u001b[39m\u001b[39m\"\u001b[39m:\n\u001b[1;32m    591\u001b[0m     \u001b[39mreturn\u001b[39;00m F\u001b[39m.\u001b[39mconv3d(\n\u001b[1;32m    592\u001b[0m         F\u001b[39m.\u001b[39mpad(\n\u001b[1;32m    593\u001b[0m             \u001b[39minput\u001b[39m, \u001b[39mself\u001b[39m\u001b[39m.\u001b[39m_reversed_padding_repeated_twice, mode\u001b[39m=\u001b[39m\u001b[39mself\u001b[39m\u001b[39m.\u001b[39mpadding_mode\n\u001b[0;32m   (...)\u001b[0m\n\u001b[1;32m    600\u001b[0m         \u001b[39mself\u001b[39m\u001b[39m.\u001b[39mgroups,\n\u001b[1;32m    601\u001b[0m     )\n\u001b[0;32m--> 602\u001b[0m \u001b[39mreturn\u001b[39;00m F\u001b[39m.\u001b[39;49mconv3d(\n\u001b[1;32m    603\u001b[0m     \u001b[39minput\u001b[39;49m, weight, bias, \u001b[39mself\u001b[39;49m\u001b[39m.\u001b[39;49mstride, \u001b[39mself\u001b[39;49m\u001b[39m.\u001b[39;49mpadding, \u001b[39mself\u001b[39;49m\u001b[39m.\u001b[39;49mdilation, \u001b[39mself\u001b[39;49m\u001b[39m.\u001b[39;49mgroups\n\u001b[1;32m    604\u001b[0m )\n",
      "\u001b[0;31mRuntimeError\u001b[0m: [enforce fail at alloc_cpu.cpp:73] . DefaultCPUAllocator: can't allocate memory: you tried to allocate 49244405760 bytes. Error code 12 (Cannot allocate memory)"
     ]
    }
   ],
   "source": [
    "myloss = LpLoss(size_average=False)\n",
    "for ep in range(epochs):\n",
    "    print(f'epoch {ep} of {epochs}')\n",
    "    model.train()\n",
    "    t1 = default_timer()\n",
    "    train_mse = 0\n",
    "    train_l2 = 0\n",
    "    for x, y in train_loader:\n",
    "        \n",
    "        x = train_input_normalizer.encode(x)\n",
    "        y = train_output_normalizer.encode(y)\n",
    "        \n",
    "        x.to(device) \n",
    "        y.to(device) \n",
    "\n",
    "        optimizer.zero_grad()\n",
    "        out = model(x) #.view(batch_size, S, S, T)\n",
    "\n",
    "        mse = F.mse_loss(out, y, reduction='mean')\n",
    "        # mse.backward()\n",
    "\n",
    "        y = train_output_normalizer.decode(y)\n",
    "        out = train_output_normalizer.decode(out)\n",
    "        l2 = myloss(out.view(batch_size, -1), y.view(batch_size, -1))\n",
    "        l2.backward()\n",
    "\n",
    "        optimizer.step()\n",
    "        scheduler.step()\n",
    "        train_mse += mse.item()\n",
    "        train_l2 += l2.item()\n",
    "\n",
    "    model.eval()\n",
    "    test_l2 = 0.0\n",
    "    test_mse= 0.0\n",
    "    with torch.no_grad():\n",
    "        for index, (x, y) in enumerate(test_loader):\n",
    "            x = test_input_normalizer.encode(x)\n",
    "            y = test_output_normalizer.encode(y)\n",
    "            \n",
    "            x.to(device)\n",
    "            y.to(device)\n",
    "\n",
    "            out = model(x) #.view(batch_size, S, S, T)\n",
    "            mse = F.mse_loss(out, y, reduction='mean')\n",
    "\n",
    "            y = test_output_normalizer.decode(y)\n",
    "            out = test_output_normalizer.decode(out)\n",
    "\n",
    "            test_l2 += myloss(out.view(batch_size, -1), y.view(batch_size, -1)).item()            \n",
    "            test_mse += mse.item()\n",
    "\n",
    "            if index == 0:\n",
    "                test_y_shape = (1, 61, resolution, resolution, 1)\n",
    "                predicted_y_shape = (1, 61, resolution, resolution, 1)\n",
    "                test_y = y[0].view(test_y_shape).cpu().numpy()\n",
    "                predicted_y = out[0].view(predicted_y_shape).cpu().numpy()\n",
    "                fig, ax = plt.subplots(nrows=1, ncols=3)\n",
    "                ax[0].imshow(test_y[0, -1, :, :, 0].T)\n",
    "                ax[1].imshow(predicted_y[0, -1, :, :, 0].T)\n",
    "                ax[2].imshow((test_y[0, 0, :, :, 0]-predicted_y[0, 0, :, :, 0]).T)\n",
    "                plt.savefig(path_image + '_ep' + str(ep) + '.png')\n",
    "                plt.close()\n",
    "       \n",
    "\n",
    "    \n",
    "\n",
    "    train_mse /= len(train_loader)\n",
    "    train_l2 /= ntrain\n",
    "    test_mse/= len(test_loader)\n",
    "    test_l2 /= ntest\n",
    "\n",
    "    t2 = default_timer()\n",
    "    #print mse, l2 for train and test data for each epoch\n",
    "    print(f'ep {ep}: t={t2-t1:.3f}, train_mse={train_mse:.3e}, train_l2={train_l2:.3e}, test_l2={test_l2:.3e}, test_mse={test_mse:.3e}')\n",
    "    #save train and test mse, l2 for each epoch\n",
    "    with open(path_train_err, 'a') as f:\n",
    "        f.write(f'epoch {ep}: t={t2-t1:.3f}, train_mse={train_mse:.3e}, train_l2={train_l2:.3e}\\n')\n",
    "    with open(path_test_err, 'a') as f:\n",
    "        f.write(f'epoch {ep}: t={t2-t1:.3f}, test_mse={test_mse:.3e}, test_l2={test_l2:.3e}\\n') \n",
    "\n",
    "    #for each 10 epochs, save the model\n",
    "    if ep % 10 == 0:\n",
    "        torch.save(model, path_model)\n",
    "    \n",
    "torch.save(model, path_model)"
   ]
  },
  {
   "cell_type": "code",
   "execution_count": 64,
   "metadata": {},
   "outputs": [
    {
     "ename": "NameError",
     "evalue": "name 'out' is not defined",
     "output_type": "error",
     "traceback": [
      "\u001b[0;31m---------------------------------------------------------------------------\u001b[0m",
      "\u001b[0;31mNameError\u001b[0m                                 Traceback (most recent call last)",
      "\u001b[1;32m/scratch/smrserraoseabr/Projects/NO-DA/DebugFNO.ipynb Cell 10\u001b[0m in \u001b[0;36m1\n\u001b[0;32m----> <a href='vscode-notebook-cell://ssh-remote%2Blogin.delftblue.tudelft.nl/scratch/smrserraoseabr/Projects/NO-DA/DebugFNO.ipynb#X30sdnNjb2RlLXJlbW90ZQ%3D%3D?line=0'>1</a>\u001b[0m out\u001b[39m.\u001b[39mshape\n",
      "\u001b[0;31mNameError\u001b[0m: name 'out' is not defined"
     ]
    }
   ],
   "source": [
    "out.shape"
   ]
  },
  {
   "cell_type": "code",
   "execution_count": 65,
   "metadata": {},
   "outputs": [
    {
     "ename": "",
     "evalue": "",
     "output_type": "error",
     "traceback": [
      "\u001b[1;31mCanceled future for execute_request message before replies were done"
     ]
    },
    {
     "ename": "",
     "evalue": "",
     "output_type": "error",
     "traceback": [
      "\u001b[1;31mThe Kernel crashed while executing code in the the current cell or a previous cell. Please review the code in the cell(s) to identify a possible cause of the failure. Click <a href='https://aka.ms/vscodeJupyterKernelCrash'>here</a> for more info. View Jupyter <a href='command:jupyter.viewOutput'>log</a> for further details."
     ]
    }
   ],
   "source": [
    "model(x).shape"
   ]
  },
  {
   "cell_type": "code",
   "execution_count": null,
   "metadata": {},
   "outputs": [],
   "source": []
  }
 ],
 "metadata": {
  "kernelspec": {
   "display_name": "Python 3",
   "language": "python",
   "name": "python3"
  },
  "language_info": {
   "codemirror_mode": {
    "name": "ipython",
    "version": 3
   },
   "file_extension": ".py",
   "mimetype": "text/x-python",
   "name": "python",
   "nbconvert_exporter": "python",
   "pygments_lexer": "ipython3",
   "version": "3.8.12"
  },
  "orig_nbformat": 4
 },
 "nbformat": 4,
 "nbformat_minor": 2
}
